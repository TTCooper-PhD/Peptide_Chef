{
 "cells": [
  {
   "cell_type": "code",
   "execution_count": 18,
   "metadata": {},
   "outputs": [],
   "source": [
    "### Data Handling\n",
    "import numpy as np\n",
    "import pandas as pd\n",
    "from pandas import ExcelWriter\n",
    "import openpyxl\n",
    "import re\n",
    "import pyteomics\n",
    "from pyteomics import fasta\n",
    "from itertools import combinations\n",
    "\n",
    "#Statistics\n",
    "import statsmodels.api as sm\n",
    "from statsmodels.formula.api import ols\n",
    "\n",
    "#Figure Generation\n",
    "import matplotlib\n",
    "import matplotlib.pyplot as plt\n",
    "import matplotlib.cm as cm\n",
    "import matplotlib.colors as colors\n",
    "from matplotlib import offsetbox\n",
    "from matplotlib.offsetbox import AnchoredText\n",
    "from matplotlib.ticker import NullFormatter\n",
    "from mpl_toolkits.mplot3d import Axes3D\n",
    "from matplotlib.tri import Triangulation\n",
    "from mpl_toolkits.mplot3d import axes3d\n",
    "from IPython.display import Image, display\n",
    "import seaborn as sns\n",
    "from adjustText import adjust_text\n",
    "import glob\n",
    "import bioinfokit\n",
    "from bioinfokit import analys, visuz\n",
    "\n",
    "#Venn Diagrams\n",
    "from matplotlib_venn import venn2, venn2_circles, venn2_unweighted\n",
    "from matplotlib_venn import venn3, venn3_circles\n",
    "%matplotlib inline\n",
    "\n",
    "cmap = 'PRGn'\n",
    "fmt='eps'\n",
    "dpi=600"
   ]
  },
  {
   "cell_type": "code",
   "execution_count": null,
   "metadata": {},
   "outputs": [],
   "source": [
    "dsdsfs"
   ]
  },
  {
   "cell_type": "code",
   "execution_count": 19,
   "metadata": {},
   "outputs": [],
   "source": [
    "import os\n",
    "from urllib.request import urlretrieve\n",
    "import gzip\n",
    "import matplotlib.pyplot as plt\n",
    "import numpy as np\n",
    "from pyteomics import fasta, parser, mass, achrom, electrochem, auxiliary"
   ]
  },
  {
   "cell_type": "code",
   "execution_count": 20,
   "metadata": {},
   "outputs": [
    {
     "name": "stdout",
     "output_type": "stream",
     "text": [
      "Downloading the FASTA file for Homo Sapiens...\n",
      "Done!\n"
     ]
    }
   ],
   "source": [
    "if not os.path.isfile('yeast.fasta.gz'):\n",
    "    print('Downloading the FASTA file for Homo Sapiens...')\n",
    "    urlretrieve(\"https://ftp.uniprot.org/pub/databases/uniprot/current_release/knowledgebase/reference_proteomes/Eukaryota/UP000005640/UP000005640_9606.fasta.gz\",\n",
    "        'human.fasta.gz')\n",
    "    print('Done!')"
   ]
  },
  {
   "cell_type": "code",
   "execution_count": 27,
   "metadata": {},
   "outputs": [
    {
     "name": "stdout",
     "output_type": "stream",
     "text": [
      "Cleaving the proteins with Thermolysin...\n",
      "Done, 407763 sequences obtained!\n"
     ]
    }
   ],
   "source": [
    "print('Cleaving the proteins with Thermolysin...')\n",
    "unique_peptides = set()\n",
    "with gzip.open('human.fasta.gz', mode='rt') as gzfile:\n",
    "    for description, sequence in fasta.FASTA(gzfile):\n",
    "        new_peptides = parser.cleave(sequence, 'thermolysin',missed_cleavages=0,min_length=7)\n",
    "        unique_peptides.update(new_peptides)\n",
    "print('Done, {0} sequences obtained!'.format(len(unique_peptides)))"
   ]
  },
  {
   "cell_type": "code",
   "execution_count": 28,
   "metadata": {},
   "outputs": [],
   "source": [
    "peptides = [{'sequence': i} for i in unique_peptides]"
   ]
  },
  {
   "cell_type": "code",
   "execution_count": 29,
   "metadata": {},
   "outputs": [
    {
     "name": "stdout",
     "output_type": "stream",
     "text": [
      "Parsing peptide sequences...\n",
      "Done!\n"
     ]
    }
   ],
   "source": [
    "print('Parsing peptide sequences...')\n",
    "for peptide in peptides:\n",
    "    peptide['parsed_sequence'] = parser.parse(\n",
    "        peptide['sequence'],\n",
    "        show_unmodified_termini=True)\n",
    "    peptide['length'] = parser.length(peptide['parsed_sequence'])\n",
    "print('Done!')"
   ]
  },
  {
   "cell_type": "code",
   "execution_count": 30,
   "metadata": {},
   "outputs": [],
   "source": [
    "peptides = [peptide for peptide in peptides if peptide['length'] <= 100]"
   ]
  },
  {
   "cell_type": "code",
   "execution_count": 31,
   "metadata": {},
   "outputs": [
    {
     "name": "stdout",
     "output_type": "stream",
     "text": [
      "Calculating the mass, charge and m/z...\n"
     ]
    },
    {
     "ename": "PyteomicsError",
     "evalue": "Pyteomics error, message: \"Could not create a Composition object from `['H-', 'X', 'S', 'W', 'D', 'T', 'R', 'Q', '-OH']`. A Composition object must be specified by sequence, parsed or split sequence, formula or dict.\"",
     "output_type": "error",
     "traceback": [
      "\u001b[1;31m---------------------------------------------------------------------------\u001b[0m",
      "\u001b[1;31mPyteomicsError\u001b[0m                            Traceback (most recent call last)",
      "\u001b[1;32m~\\Anaconda3\\envs\\SciFly\\lib\\site-packages\\pyteomics\\mass\\mass.py\u001b[0m in \u001b[0;36m__init__\u001b[1;34m(self, *args, **kwargs)\u001b[0m\n\u001b[0;32m    313\u001b[0m                 \u001b[1;32mtry\u001b[0m\u001b[1;33m:\u001b[0m\u001b[1;33m\u001b[0m\u001b[1;33m\u001b[0m\u001b[0m\n\u001b[1;32m--> 314\u001b[1;33m                     \u001b[0mself\u001b[0m\u001b[1;33m.\u001b[0m\u001b[0m_from_sequence\u001b[0m\u001b[1;33m(\u001b[0m\u001b[0mparser\u001b[0m\u001b[1;33m.\u001b[0m\u001b[0mtostring\u001b[0m\u001b[1;33m(\u001b[0m\u001b[0margs\u001b[0m\u001b[1;33m[\u001b[0m\u001b[1;36m0\u001b[0m\u001b[1;33m]\u001b[0m\u001b[1;33m,\u001b[0m \u001b[1;32mTrue\u001b[0m\u001b[1;33m)\u001b[0m\u001b[1;33m,\u001b[0m \u001b[0maa_comp\u001b[0m\u001b[1;33m)\u001b[0m\u001b[1;33m\u001b[0m\u001b[1;33m\u001b[0m\u001b[0m\n\u001b[0m\u001b[0;32m    315\u001b[0m                 \u001b[1;32mexcept\u001b[0m \u001b[0mException\u001b[0m\u001b[1;33m:\u001b[0m\u001b[1;33m\u001b[0m\u001b[1;33m\u001b[0m\u001b[0m\n",
      "\u001b[1;32m~\\Anaconda3\\envs\\SciFly\\lib\\site-packages\\pyteomics\\mass\\mass.py\u001b[0m in \u001b[0;36m_from_sequence\u001b[1;34m(self, sequence, aa_comp)\u001b[0m\n\u001b[0;32m    199\u001b[0m     \u001b[1;32mdef\u001b[0m \u001b[0m_from_sequence\u001b[0m\u001b[1;33m(\u001b[0m\u001b[0mself\u001b[0m\u001b[1;33m,\u001b[0m \u001b[0msequence\u001b[0m\u001b[1;33m,\u001b[0m \u001b[0maa_comp\u001b[0m\u001b[1;33m)\u001b[0m\u001b[1;33m:\u001b[0m\u001b[1;33m\u001b[0m\u001b[1;33m\u001b[0m\u001b[0m\n\u001b[1;32m--> 200\u001b[1;33m         parsed_sequence = parser.parse(\n\u001b[0m\u001b[0;32m    201\u001b[0m             \u001b[0msequence\u001b[0m\u001b[1;33m,\u001b[0m\u001b[1;33m\u001b[0m\u001b[1;33m\u001b[0m\u001b[0m\n",
      "\u001b[1;32m~\\Anaconda3\\envs\\SciFly\\lib\\site-packages\\pyteomics\\parser.py\u001b[0m in \u001b[0;36mparse\u001b[1;34m(sequence, show_unmodified_termini, split, allow_unknown_modifications, **kwargs)\u001b[0m\n\u001b[0;32m    351\u001b[0m                     mod in labels or allow_unknown_modifications))):\n\u001b[1;32m--> 352\u001b[1;33m                 \u001b[1;32mraise\u001b[0m \u001b[0mPyteomicsError\u001b[0m\u001b[1;33m(\u001b[0m\u001b[1;34m'Unknown label: {}'\u001b[0m\u001b[1;33m.\u001b[0m\u001b[0mformat\u001b[0m\u001b[1;33m(\u001b[0m\u001b[0mgroup\u001b[0m\u001b[1;33m)\u001b[0m\u001b[1;33m)\u001b[0m\u001b[1;33m\u001b[0m\u001b[1;33m\u001b[0m\u001b[0m\n\u001b[0m\u001b[0;32m    353\u001b[0m \u001b[1;33m\u001b[0m\u001b[0m\n",
      "\u001b[1;31mPyteomicsError\u001b[0m: Pyteomics error, message: 'Unknown label: X'",
      "\nDuring handling of the above exception, another exception occurred:\n",
      "\u001b[1;31mPyteomicsError\u001b[0m                            Traceback (most recent call last)",
      "\u001b[1;32m<ipython-input-31-15c7126bdeb1>\u001b[0m in \u001b[0;36m<module>\u001b[1;34m\u001b[0m\n\u001b[0;32m      3\u001b[0m     peptide['charge'] = int(round(\n\u001b[0;32m      4\u001b[0m         electrochem.charge(peptide['parsed_sequence'], pH=2.0)))\n\u001b[1;32m----> 5\u001b[1;33m     \u001b[0mpeptide\u001b[0m\u001b[1;33m[\u001b[0m\u001b[1;34m'mass'\u001b[0m\u001b[1;33m]\u001b[0m \u001b[1;33m=\u001b[0m \u001b[0mmass\u001b[0m\u001b[1;33m.\u001b[0m\u001b[0mcalculate_mass\u001b[0m\u001b[1;33m(\u001b[0m\u001b[0mpeptide\u001b[0m\u001b[1;33m[\u001b[0m\u001b[1;34m'parsed_sequence'\u001b[0m\u001b[1;33m]\u001b[0m\u001b[1;33m)\u001b[0m\u001b[1;33m\u001b[0m\u001b[1;33m\u001b[0m\u001b[0m\n\u001b[0m\u001b[0;32m      6\u001b[0m     peptide['m/z'] = mass.calculate_mass(peptide['parsed_sequence'],\n\u001b[0;32m      7\u001b[0m         charge=peptide['charge'])\n",
      "\u001b[1;32m~\\Anaconda3\\envs\\SciFly\\lib\\site-packages\\pyteomics\\mass\\mass.py\u001b[0m in \u001b[0;36mcalculate_mass\u001b[1;34m(*args, **kwargs)\u001b[0m\n\u001b[0;32m    503\u001b[0m     \"\"\"\n\u001b[0;32m    504\u001b[0m     \u001b[1;31m# Make a copy of `composition` keyword argument.\u001b[0m\u001b[1;33m\u001b[0m\u001b[1;33m\u001b[0m\u001b[1;33m\u001b[0m\u001b[0m\n\u001b[1;32m--> 505\u001b[1;33m     \u001b[0mcomposition\u001b[0m \u001b[1;33m=\u001b[0m \u001b[1;33m(\u001b[0m\u001b[0mComposition\u001b[0m\u001b[1;33m(\u001b[0m\u001b[0mkwargs\u001b[0m\u001b[1;33m[\u001b[0m\u001b[1;34m'composition'\u001b[0m\u001b[1;33m]\u001b[0m\u001b[1;33m)\u001b[0m \u001b[1;32mif\u001b[0m \u001b[1;34m'composition'\u001b[0m \u001b[1;32min\u001b[0m \u001b[0mkwargs\u001b[0m \u001b[1;32melse\u001b[0m \u001b[0mComposition\u001b[0m\u001b[1;33m(\u001b[0m\u001b[1;33m*\u001b[0m\u001b[0margs\u001b[0m\u001b[1;33m,\u001b[0m \u001b[1;33m**\u001b[0m\u001b[0mkwargs\u001b[0m\u001b[1;33m)\u001b[0m\u001b[1;33m)\u001b[0m\u001b[1;33m\u001b[0m\u001b[1;33m\u001b[0m\u001b[0m\n\u001b[0m\u001b[0;32m    506\u001b[0m     \u001b[1;32mreturn\u001b[0m \u001b[0mcomposition\u001b[0m\u001b[1;33m.\u001b[0m\u001b[0mmass\u001b[0m\u001b[1;33m(\u001b[0m\u001b[1;33m**\u001b[0m\u001b[0mkwargs\u001b[0m\u001b[1;33m)\u001b[0m\u001b[1;33m\u001b[0m\u001b[1;33m\u001b[0m\u001b[0m\n\u001b[0;32m    507\u001b[0m \u001b[1;33m\u001b[0m\u001b[0m\n",
      "\u001b[1;32m~\\Anaconda3\\envs\\SciFly\\lib\\site-packages\\pyteomics\\mass\\mass.py\u001b[0m in \u001b[0;36m__init__\u001b[1;34m(self, *args, **kwargs)\u001b[0m\n\u001b[0;32m    314\u001b[0m                     \u001b[0mself\u001b[0m\u001b[1;33m.\u001b[0m\u001b[0m_from_sequence\u001b[0m\u001b[1;33m(\u001b[0m\u001b[0mparser\u001b[0m\u001b[1;33m.\u001b[0m\u001b[0mtostring\u001b[0m\u001b[1;33m(\u001b[0m\u001b[0margs\u001b[0m\u001b[1;33m[\u001b[0m\u001b[1;36m0\u001b[0m\u001b[1;33m]\u001b[0m\u001b[1;33m,\u001b[0m \u001b[1;32mTrue\u001b[0m\u001b[1;33m)\u001b[0m\u001b[1;33m,\u001b[0m \u001b[0maa_comp\u001b[0m\u001b[1;33m)\u001b[0m\u001b[1;33m\u001b[0m\u001b[1;33m\u001b[0m\u001b[0m\n\u001b[0;32m    315\u001b[0m                 \u001b[1;32mexcept\u001b[0m \u001b[0mException\u001b[0m\u001b[1;33m:\u001b[0m\u001b[1;33m\u001b[0m\u001b[1;33m\u001b[0m\u001b[0m\n\u001b[1;32m--> 316\u001b[1;33m                     raise PyteomicsError('Could not create a Composition object'\n\u001b[0m\u001b[0;32m    317\u001b[0m                             \u001b[1;34m' from `{}`. A Composition object must be '\u001b[0m\u001b[1;33m\u001b[0m\u001b[1;33m\u001b[0m\u001b[0m\n\u001b[0;32m    318\u001b[0m                             \u001b[1;34m'specified by sequence, parsed or split sequence,'\u001b[0m\u001b[1;33m\u001b[0m\u001b[1;33m\u001b[0m\u001b[0m\n",
      "\u001b[1;31mPyteomicsError\u001b[0m: Pyteomics error, message: \"Could not create a Composition object from `['H-', 'X', 'S', 'W', 'D', 'T', 'R', 'Q', '-OH']`. A Composition object must be specified by sequence, parsed or split sequence, formula or dict.\""
     ]
    }
   ],
   "source": [
    "print('Calculating the mass, charge and m/z...')\n",
    "for peptide in peptides:\n",
    "    peptide['charge'] = int(round(\n",
    "        electrochem.charge(peptide['parsed_sequence'], pH=2.0)))\n",
    "    peptide['mass'] = mass.calculate_mass(peptide['parsed_sequence'])\n",
    "    peptide['m/z'] = mass.calculate_mass(peptide['parsed_sequence'],\n",
    "        charge=peptide['charge'])\n",
    "print('Done!')"
   ]
  },
  {
   "cell_type": "code",
   "execution_count": 26,
   "metadata": {},
   "outputs": [
    {
     "name": "stdout",
     "output_type": "stream",
     "text": [
      "Calculating the retention time...\n"
     ]
    },
    {
     "ename": "PyteomicsError",
     "evalue": "Pyteomics error, message: 'No RC for residue \"X\".'",
     "output_type": "error",
     "traceback": [
      "\u001b[1;31m---------------------------------------------------------------------------\u001b[0m",
      "\u001b[1;31mPyteomicsError\u001b[0m                            Traceback (most recent call last)",
      "\u001b[1;32m<ipython-input-26-abecea73f72d>\u001b[0m in \u001b[0;36m<module>\u001b[1;34m\u001b[0m\n\u001b[0;32m      1\u001b[0m \u001b[0mprint\u001b[0m\u001b[1;33m(\u001b[0m\u001b[1;34m'Calculating the retention time...'\u001b[0m\u001b[1;33m)\u001b[0m\u001b[1;33m\u001b[0m\u001b[1;33m\u001b[0m\u001b[0m\n\u001b[0;32m      2\u001b[0m \u001b[1;32mfor\u001b[0m \u001b[0mpeptide\u001b[0m \u001b[1;32min\u001b[0m \u001b[0mpeptides\u001b[0m\u001b[1;33m:\u001b[0m\u001b[1;33m\u001b[0m\u001b[1;33m\u001b[0m\u001b[0m\n\u001b[1;32m----> 3\u001b[1;33m     peptide['RT_RP'] = achrom.calculate_RT(\n\u001b[0m\u001b[0;32m      4\u001b[0m         \u001b[0mpeptide\u001b[0m\u001b[1;33m[\u001b[0m\u001b[1;34m'parsed_sequence'\u001b[0m\u001b[1;33m]\u001b[0m\u001b[1;33m,\u001b[0m\u001b[1;33m\u001b[0m\u001b[1;33m\u001b[0m\u001b[0m\n\u001b[0;32m      5\u001b[0m         achrom.RCs_zubarev)\n",
      "\u001b[1;32m~\\Anaconda3\\envs\\SciFly\\lib\\site-packages\\pyteomics\\achrom.py\u001b[0m in \u001b[0;36mcalculate_RT\u001b[1;34m(peptide, RC_dict, raise_no_mod)\u001b[0m\n\u001b[0;32m    612\u001b[0m         \u001b[1;32mif\u001b[0m \u001b[0maa\u001b[0m \u001b[1;32mnot\u001b[0m \u001b[1;32min\u001b[0m \u001b[0mRC_dict\u001b[0m\u001b[1;33m[\u001b[0m\u001b[1;34m'aa'\u001b[0m\u001b[1;33m]\u001b[0m\u001b[1;33m:\u001b[0m\u001b[1;33m\u001b[0m\u001b[1;33m\u001b[0m\u001b[0m\n\u001b[0;32m    613\u001b[0m             \u001b[1;32mif\u001b[0m \u001b[0mlen\u001b[0m\u001b[1;33m(\u001b[0m\u001b[0maa\u001b[0m\u001b[1;33m)\u001b[0m \u001b[1;33m==\u001b[0m \u001b[1;36m1\u001b[0m\u001b[1;33m:\u001b[0m\u001b[1;33m\u001b[0m\u001b[1;33m\u001b[0m\u001b[0m\n\u001b[1;32m--> 614\u001b[1;33m                 \u001b[1;32mraise\u001b[0m \u001b[0mPyteomicsError\u001b[0m\u001b[1;33m(\u001b[0m\u001b[1;34m'No RC for residue \"{}\".'\u001b[0m\u001b[1;33m.\u001b[0m\u001b[0mformat\u001b[0m\u001b[1;33m(\u001b[0m\u001b[0maa\u001b[0m\u001b[1;33m)\u001b[0m\u001b[1;33m)\u001b[0m\u001b[1;33m\u001b[0m\u001b[1;33m\u001b[0m\u001b[0m\n\u001b[0m\u001b[0;32m    615\u001b[0m             \u001b[1;32mif\u001b[0m \u001b[1;33m(\u001b[0m\u001b[1;32mnot\u001b[0m \u001b[0mraise_no_mod\u001b[0m\u001b[1;33m)\u001b[0m \u001b[1;32mand\u001b[0m \u001b[0maa\u001b[0m\u001b[1;33m[\u001b[0m\u001b[1;33m-\u001b[0m\u001b[1;36m1\u001b[0m\u001b[1;33m]\u001b[0m \u001b[1;32min\u001b[0m \u001b[0mRC_dict\u001b[0m\u001b[1;33m[\u001b[0m\u001b[1;34m'aa'\u001b[0m\u001b[1;33m]\u001b[0m\u001b[1;33m:\u001b[0m\u001b[1;33m\u001b[0m\u001b[1;33m\u001b[0m\u001b[0m\n\u001b[0;32m    616\u001b[0m                 \u001b[0mRT\u001b[0m \u001b[1;33m+=\u001b[0m \u001b[0mpeptide_dict\u001b[0m\u001b[1;33m[\u001b[0m\u001b[0maa\u001b[0m\u001b[1;33m]\u001b[0m \u001b[1;33m*\u001b[0m \u001b[0mRC_dict\u001b[0m\u001b[1;33m[\u001b[0m\u001b[1;34m'aa'\u001b[0m\u001b[1;33m]\u001b[0m\u001b[1;33m[\u001b[0m\u001b[0maa\u001b[0m\u001b[1;33m[\u001b[0m\u001b[1;33m-\u001b[0m\u001b[1;36m1\u001b[0m\u001b[1;33m]\u001b[0m\u001b[1;33m]\u001b[0m\u001b[1;33m\u001b[0m\u001b[1;33m\u001b[0m\u001b[0m\n",
      "\u001b[1;31mPyteomicsError\u001b[0m: Pyteomics error, message: 'No RC for residue \"X\".'"
     ]
    }
   ],
   "source": [
    "print('Calculating the retention time...')\n",
    "for peptide in peptides:\n",
    "    peptide['RT_RP'] = achrom.calculate_RT(\n",
    "        peptide['parsed_sequence'],\n",
    "        achrom.RCs_zubarev)\n",
    "    peptide['RT_normal'] = achrom.calculate_RT(\n",
    "        peptide['parsed_sequence'],\n",
    "        achrom.RCs_yoshida_lc)\n",
    "print('Done!')"
   ]
  },
  {
   "cell_type": "code",
   "execution_count": null,
   "metadata": {},
   "outputs": [],
   "source": [
    "plt.figure()\n",
    "plt.hist([peptide['m/z'] for peptide in peptides],\n",
    "    bins = 2000,\n",
    "    range=(0,4000))\n",
    "plt.xlabel('m/z, Th')\n",
    "plt.ylabel('# of peptides within 2 Th bin')\n",
    "plt.show()"
   ]
  },
  {
   "cell_type": "code",
   "execution_count": null,
   "metadata": {},
   "outputs": [],
   "source": [
    "plt.figure()\n",
    "plt.hist([peptide['charge'] for peptide in peptides],\n",
    "    bins = 100,\n",
    "    range=(0,10))\n",
    "plt.xlabel('charge, e')\n",
    "plt.ylabel('# of peptides')\n",
    "plt.show()"
   ]
  },
  {
   "cell_type": "code",
   "execution_count": null,
   "metadata": {},
   "outputs": [],
   "source": [
    "x = [peptide['RT_RP'] for peptide in peptides]\n",
    "y = [peptide['RT_normal'] for peptide in peptides]\n",
    "heatmap, xbins, ybins = np.histogram2d(x, y, bins=100)\n",
    "heatmap[heatmap == 0] = np.nan\n",
    "a, b, r, stderr = auxiliary.linear_regression(x,y)"
   ]
  },
  {
   "cell_type": "code",
   "execution_count": null,
   "metadata": {},
   "outputs": [],
   "source": [
    "plt.figure()\n",
    "plt.imshow(heatmap)\n",
    "plt.xlabel('RT on RP, min')\n",
    "plt.ylabel('RT on normal phase, min')\n",
    "plt.title('All tryptic peptides, RT correlation = {0}'.format(r))"
   ]
  },
  {
   "cell_type": "code",
   "execution_count": null,
   "metadata": {},
   "outputs": [],
   "source": [
    "x = [peptide['m/z'] for peptide in peptides]\n",
    "y = [peptide['RT_RP'] for peptide in peptides]\n",
    "heatmap, xbins, ybins = np.histogram2d(x, y,\n",
    "    bins=[150, 2000],\n",
    "    range=[[0, 4000], [0, 200]])\n",
    "heatmap[heatmap == 0] = np.nan\n",
    "a, b, r, stderr = auxiliary.linear_regression(x,y)\n",
    "\n",
    "plt.figure()\n",
    "plt.imshow(heatmap,\n",
    "    aspect='auto',\n",
    "    origin='lower')\n",
    "plt.xlabel('m/z, Th')\n",
    "plt.ylabel('RT on RP, min')\n",
    "plt.title('All tryptic peptides, correlation = {0}'.format(r))\n",
    "plt.show()"
   ]
  },
  {
   "cell_type": "code",
   "execution_count": null,
   "metadata": {},
   "outputs": [],
   "source": [
    "close_mass_peptides = [peptide for peptide in peptides\n",
    "                       if 700.0 <= peptide['m/z'] <= 701.0]\n",
    "x = [peptide['RT_RP'] for peptide in close_mass_peptides]\n",
    "y = [peptide['RT_normal'] for peptide in close_mass_peptides]\n",
    "a, b, r, stderr = auxiliary.linear_regression(x, y)\n",
    "\n",
    "plt.figure()\n",
    "plt.scatter(x, y)\n",
    "plt.xlabel('RT on RP, min')\n",
    "plt.ylabel('RT on normal phase, min')\n",
    "plt.title('Tryptic peptides with m/z=700-701 Th\\nRT correlation = {0}'.format(r))\n",
    "\n",
    "plt.show()"
   ]
  },
  {
   "cell_type": "code",
   "execution_count": null,
   "metadata": {},
   "outputs": [],
   "source": []
  }
 ],
 "metadata": {
  "kernelspec": {
   "display_name": "Python 3",
   "language": "python",
   "name": "python3"
  },
  "language_info": {
   "codemirror_mode": {
    "name": "ipython",
    "version": 3
   },
   "file_extension": ".py",
   "mimetype": "text/x-python",
   "name": "python",
   "nbconvert_exporter": "python",
   "pygments_lexer": "ipython3",
   "version": "3.8.3"
  },
  "toc": {
   "base_numbering": 1,
   "nav_menu": {},
   "number_sections": true,
   "sideBar": true,
   "skip_h1_title": false,
   "title_cell": "Table of Contents",
   "title_sidebar": "Contents",
   "toc_cell": false,
   "toc_position": {},
   "toc_section_display": true,
   "toc_window_display": false
  },
  "varInspector": {
   "cols": {
    "lenName": 16,
    "lenType": 16,
    "lenVar": 40
   },
   "kernels_config": {
    "python": {
     "delete_cmd_postfix": "",
     "delete_cmd_prefix": "del ",
     "library": "var_list.py",
     "varRefreshCmd": "print(var_dic_list())"
    },
    "r": {
     "delete_cmd_postfix": ") ",
     "delete_cmd_prefix": "rm(",
     "library": "var_list.r",
     "varRefreshCmd": "cat(var_dic_list()) "
    }
   },
   "types_to_exclude": [
    "module",
    "function",
    "builtin_function_or_method",
    "instance",
    "_Feature"
   ],
   "window_display": false
  }
 },
 "nbformat": 4,
 "nbformat_minor": 4
}
