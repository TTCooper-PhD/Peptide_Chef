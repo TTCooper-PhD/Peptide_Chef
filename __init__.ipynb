{
 "cells": [
  {
   "cell_type": "markdown",
   "metadata": {},
   "source": [
    "# Peptide Chef"
   ]
  },
  {
   "cell_type": "code",
   "execution_count": 200,
   "metadata": {},
   "outputs": [],
   "source": [
    "# Created by: Tyler T. Cooper, PhD (2021)\n",
    "# Tools to Analyze Peptides and Amino Acid Compositions"
   ]
  },
  {
   "cell_type": "markdown",
   "metadata": {},
   "source": [
    "## Libraries"
   ]
  },
  {
   "cell_type": "code",
   "execution_count": 201,
   "metadata": {},
   "outputs": [],
   "source": [
    "### Data Handling\n",
    "import numpy as np\n",
    "import pandas as pd\n",
    "from pandas import ExcelWriter\n",
    "import openpyxl\n",
    "import re\n",
    "import pyteomics\n",
    "from pyteomics import fasta, parser, electrochem, mass\n",
    "from itertools import combinations\n",
    "from urllib.request import urlretrieve\n",
    "import gzip\n",
    "#dfdfdf\n",
    "#Statistics\n",
    "import statsmodels.api as sm\n",
    "from statsmodels.formula.api import ols\n",
    "\n",
    "#Figure Generation\n",
    "import matplotlib\n",
    "import matplotlib.pyplot as plt\n",
    "import matplotlib.cm as cm\n",
    "import matplotlib.colors as colors\n",
    "from matplotlib import offsetbox\n",
    "from matplotlib.offsetbox import AnchoredText\n",
    "from matplotlib.ticker import NullFormatter\n",
    "from mpl_toolkits.mplot3d import Axes3D\n",
    "from matplotlib.tri import Triangulation\n",
    "from mpl_toolkits.mplot3d import axes3d\n",
    "from IPython.display import Image, display\n",
    "import seaborn as sns\n",
    "from adjustText import adjust_text\n",
    "import glob\n",
    "import bioinfokit\n",
    "from bioinfokit import analys, visuz\n",
    "\n",
    "#Venn Diagrams\n",
    "from matplotlib_venn import venn2, venn2_circles, venn2_unweighted\n",
    "from matplotlib_venn import venn3, venn3_circles\n",
    "%matplotlib inline\n",
    "\n",
    "cmap = 'PRGn'\n",
    "fmt='eps'\n",
    "dpi=600"
   ]
  },
  {
   "cell_type": "code",
   "execution_count": null,
   "metadata": {},
   "outputs": [],
   "source": []
  },
  {
   "cell_type": "markdown",
   "metadata": {},
   "source": [
    "## Import Fasta File"
   ]
  },
  {
   "cell_type": "code",
   "execution_count": 202,
   "metadata": {},
   "outputs": [],
   "source": [
    "url=\"https://ftp.uniprot.org/pub/databases/uniprot/current_release/knowledgebase/reference_proteomes/Eukaryota/UP000005640/UP000005640_9606.fasta.gz\""
   ]
  },
  {
   "cell_type": "code",
   "execution_count": 203,
   "metadata": {},
   "outputs": [],
   "source": [
    "\n",
    "# Use if Fasta file is Local\n",
    "def Cook_Book(Species=None,homebrew=True, takeout=False,url=None ):\n",
    "    ingredients=list()\n",
    "    if takeout is True:\n",
    "        homebrew=False\n",
    "        print('Downloading the FASTA file from url...')\n",
    "        urlretrieve(url,'temp.fasta.gz')\n",
    "        print('Done!')\n",
    "        with gzip.open('temp.fasta.gz', mode='rt') as gzfile:\n",
    "            for info, contents in fasta.FASTA(gzfile):\n",
    "                taste=list((info,contents))\n",
    "                ingredients.append(taste)\n",
    "                recipie=pd.DataFrame(ingredients,columns=['ID','Peptide'])\n",
    "        print(\"Done!\")\n",
    "    if homebrew is True:\n",
    "        print(\"Downloading the FASTA file from local flle...\")\n",
    "        book = str(Species+\".fasta\")\n",
    "        recipie=pd.DataFrame()\n",
    "        with fasta.read(book) as menu:\n",
    "            for info, contents in menu:\n",
    "                taste=list((info,contents))\n",
    "                ingredients.append(taste)\n",
    "                recipie=pd.DataFrame(ingredients,columns=['ID','Peptide'])\n",
    "        print(\"Done!\")\n",
    "    recipie[['db', 'UniprotID','ID2']] = recipie['ID'].str.split('|', 2, expand=True)\n",
    "    recipie[['Gene','Identification']] = recipie['ID2'].str.split('_', 1, expand=True)\n",
    "    recipie.drop(columns=['ID', 'ID2',\"db\"], inplace=True)\n",
    "    return(recipie)"
   ]
  },
  {
   "cell_type": "code",
   "execution_count": 204,
   "metadata": {
    "scrolled": true
   },
   "outputs": [
    {
     "name": "stdout",
     "output_type": "stream",
     "text": [
      "Downloading the FASTA file from url...\n",
      "Done!\n",
      "Done!\n"
     ]
    },
    {
     "data": {
      "text/html": [
       "<div>\n",
       "<style scoped>\n",
       "    .dataframe tbody tr th:only-of-type {\n",
       "        vertical-align: middle;\n",
       "    }\n",
       "\n",
       "    .dataframe tbody tr th {\n",
       "        vertical-align: top;\n",
       "    }\n",
       "\n",
       "    .dataframe thead th {\n",
       "        text-align: right;\n",
       "    }\n",
       "</style>\n",
       "<table border=\"1\" class=\"dataframe\">\n",
       "  <thead>\n",
       "    <tr style=\"text-align: right;\">\n",
       "      <th></th>\n",
       "      <th>Peptide</th>\n",
       "      <th>UniprotID</th>\n",
       "      <th>Gene</th>\n",
       "      <th>Identification</th>\n",
       "    </tr>\n",
       "  </thead>\n",
       "  <tbody>\n",
       "    <tr>\n",
       "      <th>0</th>\n",
       "      <td>MKHLWFFLLLVAAPRWVLSQVQLQESGPGLVKPSGTLSLTCAVSGG...</td>\n",
       "      <td>A0A075B6R2</td>\n",
       "      <td>HV404</td>\n",
       "      <td>HUMAN Immunoglobulin heavy variable 4-4 OS=Hom...</td>\n",
       "    </tr>\n",
       "    <tr>\n",
       "      <th>1</th>\n",
       "      <td>XNSGGSNYKLTFGKGTLLTVNP</td>\n",
       "      <td>A0A075B6W9</td>\n",
       "      <td>A0A075B6W9</td>\n",
       "      <td>HUMAN T cell receptor alpha joining 53 (Fragme...</td>\n",
       "    </tr>\n",
       "    <tr>\n",
       "      <th>2</th>\n",
       "      <td>XNSGGYQKVTFGTGTKLQVIP</td>\n",
       "      <td>A0A075B709</td>\n",
       "      <td>A0A075B709</td>\n",
       "      <td>HUMAN T cell receptor alpha joining 13 (Fragme...</td>\n",
       "    </tr>\n",
       "    <tr>\n",
       "      <th>3</th>\n",
       "      <td>MASNVTNKMDPHSVNSRVFIGNLNTLVVKKSDVEAIFSKYGKIAGC...</td>\n",
       "      <td>A0A0G2JNQ3</td>\n",
       "      <td>A0A0G2JNQ3</td>\n",
       "      <td>HUMAN Heterogeneous nuclear ribonucleoprotein ...</td>\n",
       "    </tr>\n",
       "    <tr>\n",
       "      <th>4</th>\n",
       "      <td>SNQPQHFGDGTRLSIL</td>\n",
       "      <td>A0A0J9YXM7</td>\n",
       "      <td>TJB15</td>\n",
       "      <td>HUMAN T cell receptor beta joining 1-5 OS=Homo...</td>\n",
       "    </tr>\n",
       "    <tr>\n",
       "      <th>...</th>\n",
       "      <td>...</td>\n",
       "      <td>...</td>\n",
       "      <td>...</td>\n",
       "      <td>...</td>\n",
       "    </tr>\n",
       "    <tr>\n",
       "      <th>20605</th>\n",
       "      <td>MKGTPSSLDTLMWIYHFHSSTEVALQPPLLSSLELSVAAAHEYLEQ...</td>\n",
       "      <td>Q6ZR85</td>\n",
       "      <td>CQ107</td>\n",
       "      <td>HUMAN Uncharacterized protein C17orf107 OS=Hom...</td>\n",
       "    </tr>\n",
       "    <tr>\n",
       "      <th>20606</th>\n",
       "      <td>MAALGTVLFTGVRRLHCSVAAWAGGQWRLQQGLAANPSGYGPLTEL...</td>\n",
       "      <td>Q86TS9</td>\n",
       "      <td>RM52</td>\n",
       "      <td>HUMAN 39S ribosomal protein L52, mitochondrial...</td>\n",
       "    </tr>\n",
       "    <tr>\n",
       "      <th>20607</th>\n",
       "      <td>MASSGEDISNDDDDMHPAAAGMADGVHLLGFSDEILLHILSHVPST...</td>\n",
       "      <td>Q96ME1</td>\n",
       "      <td>FXL18</td>\n",
       "      <td>HUMAN F-box/LRR-repeat protein 18 OS=Homo sapi...</td>\n",
       "    </tr>\n",
       "    <tr>\n",
       "      <th>20608</th>\n",
       "      <td>MTTETFVKDIKPGLKNLNLIFIVLETGRVTKTKDGHEVRTCKVADK...</td>\n",
       "      <td>Q9BQ15</td>\n",
       "      <td>SOSB1</td>\n",
       "      <td>HUMAN SOSS complex subunit B1 OS=Homo sapiens ...</td>\n",
       "    </tr>\n",
       "    <tr>\n",
       "      <th>20609</th>\n",
       "      <td>MAADLNLEWISLPRSWTYGITRGGRVFFINEEAKSTTWLHPVTGEA...</td>\n",
       "      <td>Q9HAU0</td>\n",
       "      <td>PKHA5</td>\n",
       "      <td>HUMAN Pleckstrin homology domain-containing fa...</td>\n",
       "    </tr>\n",
       "  </tbody>\n",
       "</table>\n",
       "<p>20610 rows × 4 columns</p>\n",
       "</div>"
      ],
      "text/plain": [
       "                                                 Peptide   UniprotID  \\\n",
       "0      MKHLWFFLLLVAAPRWVLSQVQLQESGPGLVKPSGTLSLTCAVSGG...  A0A075B6R2   \n",
       "1                                 XNSGGSNYKLTFGKGTLLTVNP  A0A075B6W9   \n",
       "2                                  XNSGGYQKVTFGTGTKLQVIP  A0A075B709   \n",
       "3      MASNVTNKMDPHSVNSRVFIGNLNTLVVKKSDVEAIFSKYGKIAGC...  A0A0G2JNQ3   \n",
       "4                                       SNQPQHFGDGTRLSIL  A0A0J9YXM7   \n",
       "...                                                  ...         ...   \n",
       "20605  MKGTPSSLDTLMWIYHFHSSTEVALQPPLLSSLELSVAAAHEYLEQ...      Q6ZR85   \n",
       "20606  MAALGTVLFTGVRRLHCSVAAWAGGQWRLQQGLAANPSGYGPLTEL...      Q86TS9   \n",
       "20607  MASSGEDISNDDDDMHPAAAGMADGVHLLGFSDEILLHILSHVPST...      Q96ME1   \n",
       "20608  MTTETFVKDIKPGLKNLNLIFIVLETGRVTKTKDGHEVRTCKVADK...      Q9BQ15   \n",
       "20609  MAADLNLEWISLPRSWTYGITRGGRVFFINEEAKSTTWLHPVTGEA...      Q9HAU0   \n",
       "\n",
       "             Gene                                     Identification  \n",
       "0           HV404  HUMAN Immunoglobulin heavy variable 4-4 OS=Hom...  \n",
       "1      A0A075B6W9  HUMAN T cell receptor alpha joining 53 (Fragme...  \n",
       "2      A0A075B709  HUMAN T cell receptor alpha joining 13 (Fragme...  \n",
       "3      A0A0G2JNQ3  HUMAN Heterogeneous nuclear ribonucleoprotein ...  \n",
       "4           TJB15  HUMAN T cell receptor beta joining 1-5 OS=Homo...  \n",
       "...           ...                                                ...  \n",
       "20605       CQ107  HUMAN Uncharacterized protein C17orf107 OS=Hom...  \n",
       "20606        RM52  HUMAN 39S ribosomal protein L52, mitochondrial...  \n",
       "20607       FXL18  HUMAN F-box/LRR-repeat protein 18 OS=Homo sapi...  \n",
       "20608       SOSB1  HUMAN SOSS complex subunit B1 OS=Homo sapiens ...  \n",
       "20609       PKHA5  HUMAN Pleckstrin homology domain-containing fa...  \n",
       "\n",
       "[20610 rows x 4 columns]"
      ]
     },
     "execution_count": 204,
     "metadata": {},
     "output_type": "execute_result"
    }
   ],
   "source": [
    "menu=Cook_Book(takeout=True,url=url)\n",
    "menu"
   ]
  },
  {
   "cell_type": "markdown",
   "metadata": {},
   "source": [
    "## Defined Variables, Compiliers, Accessory Functions"
   ]
  },
  {
   "cell_type": "code",
   "execution_count": 205,
   "metadata": {},
   "outputs": [],
   "source": [
    "peptidezap = re.compile(r'^([A-Z]+)')"
   ]
  },
  {
   "cell_type": "code",
   "execution_count": null,
   "metadata": {},
   "outputs": [],
   "source": []
  },
  {
   "cell_type": "code",
   "execution_count": null,
   "metadata": {},
   "outputs": [],
   "source": []
  },
  {
   "cell_type": "markdown",
   "metadata": {},
   "source": [
    "### Accessory Functions "
   ]
  },
  {
   "cell_type": "code",
   "execution_count": 206,
   "metadata": {},
   "outputs": [],
   "source": [
    "def PEAKS_Importer(csv,drop_OG=True):\n",
    "    df=pd.read_csv(csv)\n",
    "    df[[\"Protein\",\"Y\"]]=df['Protein Accession'].str.split(\"|\",1,expand=True)\n",
    "    df[[\"Gene\",\"Species\"]]=df['Y'].str.split(\"_\",1,expand=True)\n",
    "    if drop_OG==True:\n",
    "        df.drop(columns=['Y', 'Protein Accession',\"Found By\"], inplace=True)\n",
    "    else:\n",
    "        df.drop(columns=['Y',\"Found By\"], inplace=True)\n",
    "    return(df)"
   ]
  },
  {
   "cell_type": "code",
   "execution_count": 207,
   "metadata": {},
   "outputs": [],
   "source": [
    "def Excel_Mapper(list_dfs, xls_path):\n",
    "    with ExcelWriter(xls_path) as writer:\n",
    "        for n, df in enumerate(list_dfs):\n",
    "            df.to_excel(writer,'sheet%s' % n)\n",
    "        writer.save()"
   ]
  },
  {
   "cell_type": "code",
   "execution_count": 208,
   "metadata": {},
   "outputs": [],
   "source": [
    "def MeatWrapper(workbook,old,new,output):\n",
    "    meat = openpyxl.load_workbook(workbook)\n",
    "    wrap = meat[old]\n",
    "    wrap.title = new\n",
    "    meat.save(output)"
   ]
  },
  {
   "cell_type": "code",
   "execution_count": 209,
   "metadata": {},
   "outputs": [],
   "source": [
    "def Sampler(df,toothpicks,samples):\n",
    "    platter = {}\n",
    "    for toothpick, sample in zip(toothpicks, samples):\n",
    "        platter[sample] = df[toothpick]\n",
    "    return platter"
   ]
  },
  {
   "cell_type": "markdown",
   "metadata": {},
   "source": [
    "## Primary Functions"
   ]
  },
  {
   "cell_type": "code",
   "execution_count": 210,
   "metadata": {},
   "outputs": [],
   "source": [
    "#Handles Up to 3 Replicates (t_id1-3) per Selection, used for removing amino acids from N-terminal during PEAKS exports with enzyme that cleave at C-terminal. \n",
    "# Can be used to remove M from N-terminal of peptides produced by enzymes which cleave at N-terminal of target aa. \n",
    "def Butcher(df,ident1=None,ident2=None,ident3=None,t_id1=None,t_id2=None,t_id3=None,t_value=0,acid=[\"J\",\"Z\"],labels=list(),excel_mapper=True,excel_name=None):\n",
    "    raw=df.loc[:,df.columns.str.contains(ident1)]\n",
    "    tag=df[labels]\n",
    "    raw = pd.concat([raw, tag], axis=1)\n",
    "    raw[\"Peptide\"]= raw[\"Peptide\"].str.replace('\\W+',\"\")\n",
    "    raw[\"Peptide\"]= raw[\"Peptide\"].str.replace('\\d+',\"\")\n",
    "    raw[\"Peptide\"]= raw[\"Peptide\"].apply(lambda x : x[1:] if x.startswith(tuple(acid)) else x)\n",
    "    cut=raw.loc[:,raw.columns.str.contains(ident2)]\n",
    "    cuts = pd.concat([cut, tag], axis=1)\n",
    "    if t_id1 is None:\n",
    "        print(\"Select One Column for Filtering\")\n",
    "    elif t_id3 is None:\n",
    "        try:\n",
    "            cuts=cuts.loc[(cuts[t_id1]>t_value)|(cuts[t_id2]>t_value)]\n",
    "        except:\n",
    "            cuts=cuts.loc[(cuts[t_id1]>t_value)]\n",
    "    else:\n",
    "        cuts=cuts.loc[(cuts[t_id1]>t_value)|(cuts[t_id2]>t_value)|(cuts[t_id3]>t_value)]\n",
    "    cuts[\"Peptide\"]= cuts[\"Peptide\"].str.replace('\\W+',\"\")\n",
    "    cuts[\"Peptide\"]= cuts[\"Peptide\"].str.replace('\\d+',\"\")\n",
    "    cuts[\"Peptide\"]= cuts[\"Peptide\"].apply(lambda x : x[1:] if x.startswith(tuple(acid)) else x)\n",
    "    cuts.reset_index(inplace=True)\n",
    "    excels=[raw,cuts]\n",
    "    Excel_Mapper(excels,excel_name +\".xlsx\")\n",
    "    return raw, cuts"
   ]
  },
  {
   "cell_type": "code",
   "execution_count": 211,
   "metadata": {},
   "outputs": [],
   "source": [
    "def Peptide_Mass(peptide):\n",
    "    mass = {  \"A\": 71.037114,\n",
    "    \"R\": 156.101111,\n",
    "    \"N\": 114.042927,\n",
    "    \"D\": 115.026943,\n",
    "    \"C\": 103.009185,\n",
    "    \"Q\": 129.042593,\n",
    "    \"E\": 128.058578,\n",
    "    \"G\": 57.021464,\n",
    "    \"H\": 137.058912,\n",
    "    \"I\": 113.084064,\n",
    "    \"L\": 113.084064,\n",
    "    \"K\": 128.094963,\n",
    "    \"M\": 131.040485,\n",
    "    \"F\": 147.068414,\n",
    "    \"P\": 97.052764,\n",
    "    \"S\": 87.032028,\n",
    "    \"T\": 101.047679,\n",
    "    \"W\": 186.079313,\n",
    "    \"Y\": 163.06332,\n",
    "    \"V\": 99.068414,\n",
    "    }\n",
    "    mass_list = [mass.get(aa,0.0)for aa in peptide]\n",
    "    pep_mass=sum(mass_list)\n",
    "    return pep_mass "
   ]
  },
  {
   "cell_type": "code",
   "execution_count": 227,
   "metadata": {},
   "outputs": [],
   "source": [
    "def ButcherShop(df, target, rule, min_length=7,exception=None,max_length=100, pH=2.0, min_charge=2,missed=0):\n",
    "    raw = df[target]\n",
    "    string_catcher=re.compile(r'^([A-Z]+)$')\n",
    "    unique_peptides = set()\n",
    "    for peptide in raw:\n",
    "        new_peptides = parser.cleave(peptide,rule=rule,min_length=min_length,exception=exception,missed_cleavages=missed)\n",
    "        unique_peptides.update(new_peptides)\n",
    "    print(f'Done,{len(unique_peptides)} sequences of >= 7 amino acids!')\n",
    "    pep_dic = [{'sequence': i} for i in unique_peptides]\n",
    "    for row in pep_dic:\n",
    "        peptides = row['sequence']\n",
    "        row['peptide_product'] = re.findall(string_catcher,peptides)\n",
    "        row['Length'] = len(peptides)\n",
    "        row['z'] = int(round(electrochem.charge(peptides, pH=pH)))\n",
    "        row['Mass']=int(round(Peptide_Mass(peptides)))\n",
    "        if row['z'] > 0:\n",
    "            row['m/z']=row[\"Mass\"]/row['z']\n",
    "    pep_dic = [peptide for peptide in pep_dic if peptide['Length'] <= int(max_length)]\n",
    "    pep_dic = [peptide for peptide in pep_dic if peptide['z'] >= int(min_charge)]\n",
    "    pep_df = pd.DataFrame.from_dict(pep_dic)\n",
    "    return unique_peptides,pep_dic, pep_df"
   ]
  },
  {
   "cell_type": "code",
   "execution_count": 232,
   "metadata": {
    "scrolled": true
   },
   "outputs": [
    {
     "name": "stdout",
     "output_type": "stream",
     "text": [
      "Done,20538 sequences of >= 7 amino acids!\n"
     ]
    }
   ],
   "source": [
    "x,y,z=ButcherShop(menu,\"Peptide\",\"termolysin\",missed=5)\n"
   ]
  },
  {
   "cell_type": "code",
   "execution_count": 231,
   "metadata": {},
   "outputs": [
    {
     "data": {
      "text/html": [
       "<div>\n",
       "<style scoped>\n",
       "    .dataframe tbody tr th:only-of-type {\n",
       "        vertical-align: middle;\n",
       "    }\n",
       "\n",
       "    .dataframe tbody tr th {\n",
       "        vertical-align: top;\n",
       "    }\n",
       "\n",
       "    .dataframe thead th {\n",
       "        text-align: right;\n",
       "    }\n",
       "</style>\n",
       "<table border=\"1\" class=\"dataframe\">\n",
       "  <thead>\n",
       "    <tr style=\"text-align: right;\">\n",
       "      <th></th>\n",
       "      <th>Length</th>\n",
       "      <th>z</th>\n",
       "      <th>Mass</th>\n",
       "      <th>m/z</th>\n",
       "    </tr>\n",
       "  </thead>\n",
       "  <tbody>\n",
       "    <tr>\n",
       "      <th>count</th>\n",
       "      <td>832.000000</td>\n",
       "      <td>832.000000</td>\n",
       "      <td>832.000000</td>\n",
       "      <td>832.000000</td>\n",
       "    </tr>\n",
       "    <tr>\n",
       "      <th>mean</th>\n",
       "      <td>70.393029</td>\n",
       "      <td>11.415865</td>\n",
       "      <td>7843.419471</td>\n",
       "      <td>789.150593</td>\n",
       "    </tr>\n",
       "    <tr>\n",
       "      <th>std</th>\n",
       "      <td>25.288575</td>\n",
       "      <td>5.778931</td>\n",
       "      <td>2864.637712</td>\n",
       "      <td>390.148894</td>\n",
       "    </tr>\n",
       "    <tr>\n",
       "      <th>min</th>\n",
       "      <td>9.000000</td>\n",
       "      <td>2.000000</td>\n",
       "      <td>1206.000000</td>\n",
       "      <td>190.944444</td>\n",
       "    </tr>\n",
       "    <tr>\n",
       "      <th>25%</th>\n",
       "      <td>58.000000</td>\n",
       "      <td>7.000000</td>\n",
       "      <td>6386.750000</td>\n",
       "      <td>560.826923</td>\n",
       "    </tr>\n",
       "    <tr>\n",
       "      <th>50%</th>\n",
       "      <td>78.000000</td>\n",
       "      <td>12.000000</td>\n",
       "      <td>8574.500000</td>\n",
       "      <td>691.500000</td>\n",
       "    </tr>\n",
       "    <tr>\n",
       "      <th>75%</th>\n",
       "      <td>91.000000</td>\n",
       "      <td>15.000000</td>\n",
       "      <td>10139.500000</td>\n",
       "      <td>883.777778</td>\n",
       "    </tr>\n",
       "    <tr>\n",
       "      <th>max</th>\n",
       "      <td>100.000000</td>\n",
       "      <td>34.000000</td>\n",
       "      <td>12286.000000</td>\n",
       "      <td>5200.500000</td>\n",
       "    </tr>\n",
       "  </tbody>\n",
       "</table>\n",
       "</div>"
      ],
      "text/plain": [
       "           Length           z          Mass          m/z\n",
       "count  832.000000  832.000000    832.000000   832.000000\n",
       "mean    70.393029   11.415865   7843.419471   789.150593\n",
       "std     25.288575    5.778931   2864.637712   390.148894\n",
       "min      9.000000    2.000000   1206.000000   190.944444\n",
       "25%     58.000000    7.000000   6386.750000   560.826923\n",
       "50%     78.000000   12.000000   8574.500000   691.500000\n",
       "75%     91.000000   15.000000  10139.500000   883.777778\n",
       "max    100.000000   34.000000  12286.000000  5200.500000"
      ]
     },
     "execution_count": 231,
     "metadata": {},
     "output_type": "execute_result"
    }
   ],
   "source": [
    "z.describe()"
   ]
  },
  {
   "cell_type": "code",
   "execution_count": null,
   "metadata": {},
   "outputs": [],
   "source": [
    "# for peptide in menu[\"Peptide\"]:\n",
    "#     x=parser.valid(peptide)\n",
    "#     if x == False:\n",
    "#         print(peptide)\n",
    "#         break\n",
    "#     else:\n",
    "#         print(x)    "
   ]
  },
  {
   "cell_type": "code",
   "execution_count": null,
   "metadata": {},
   "outputs": [],
   "source": [
    "y.to_dict()"
   ]
  },
  {
   "cell_type": "code",
   "execution_count": null,
   "metadata": {},
   "outputs": [],
   "source": [
    "def Peptide_Wash(peptide,ccut=None, PEAKS=False):\n",
    "    if ccut is None:\n",
    "        peptide = peptide.str.replace('\\W+','')\n",
    "        peptide = peptide.str.replace('\\d+','')\n",
    "    elif ccut == \"Trypsin\":\n",
    "        x=[ 'R', 'K']\n",
    "        if PEAKS:\n",
    "            peptide= peptide.apply(lambda x : x[1:] if x.startswith(tuple(x)) else x)\n",
    "        peptide = peptide.str.replace('\\W+','')\n",
    "        peptide = peptide.str.replace('\\d+','')\n",
    "        return(peptide)\n",
    "    elif ccut == \"AspN\":\n",
    "        x=['A', 'R', 'N','D', 'C', 'Q','E', 'G', 'H',\n",
    "             'I', 'L', 'K', 'F', 'P',\n",
    "             'S', 'T', 'W','Y', 'V']\n",
    "        if PEAKS:\n",
    "            peptide= peptide.apply(lambda x : x[1:] if x.startswith(tuple(x)) else x)\n",
    "        peptide = peptide.str.replace('\\W+','')\n",
    "        peptide = peptide.str.replace('\\d+','')\n",
    "        return(peptide)\n",
    "    elif ccut == \"GluC\":\n",
    "        x=['E']\n",
    "        if PEAKS:\n",
    "            peptide= peptide.apply(lambda x : x[1:] if x.startswith(tuple(x)) else x)\n",
    "        peptide = peptide.str.replace('\\W+','')\n",
    "        peptide = peptide.str.replace('\\d+','')\n",
    "        return(peptide)"
   ]
  },
  {
   "cell_type": "code",
   "execution_count": null,
   "metadata": {},
   "outputs": [],
   "source": [
    "def Peptide_IPC(peptide,start_pH=6.51,Epsilon=0.01,):\n",
    "    IPC_score={'Cterm': 2.383, 'pKAsp': 3.887, 'pKGlu': 4.317, 'pKCys': 8.297, 'pKTyr': 10.071, 'pk_his': 6.018, 'Nterm': 9.564, 'pKLys': 10.517, 'pKArg': 12.503}\n",
    "    pKCterm = IPC_score['Cterm']\n",
    "    pKAsp = IPC_score['pKAsp']\n",
    "    pKGlu = IPC_score['pKGlu']\n",
    "    pKCys = IPC_score['pKCys']\n",
    "    pKTyr = IPC_score['pKTyr']\n",
    "    pKHis = IPC_score['pk_his']\n",
    "    pKNterm = IPC_score['Nterm']\n",
    "    pKLys = IPC_score['pKLys'] \n",
    "    pKArg = IPC_score['pKArg']\n",
    "    pH = start_pH      \n",
    "    pHprev = 0.0         \n",
    "    pHnext = 14.0        \n",
    "    E = Epsilon  \n",
    "    temp = 0.01\n",
    "    nterm=peptide[0]\n",
    "    cterm=peptide[-1]\n",
    "#will now cycle through all peptides until a pH within the epsilon is found       \n",
    "    while 1:             \n",
    "        QN1=-1.0/(1.0+pow(10,(pKCterm-pH)))                                        \n",
    "        QN2=-petide.count('D')/(1.0+pow(10,(pKAsp-pH)))           \n",
    "        QN3=-peptide.count('E')/(1.0+pow(10,(pKGlu-pH)))           \n",
    "        QN4=-peptide.count('C')/(1.0+pow(10,(pKCys-pH)))           \n",
    "        QN5=-peptide.count('Y')/(1.0+pow(10,(pKTyr-pH)))        \n",
    "        QP1=peptide.count('H')/(1.0+pow(10,(pH-pKHis)))            \n",
    "        QP2=1.0/(1.0+pow(10,(pH-pKNterm)))                \n",
    "        QP3=peptide.count('K')/(1.0+pow(10,(pH-pKLys)))           \n",
    "        QP4=peptide.count('R')/(1.0+pow(10,(pH-pKArg)))            \n",
    "        NQ=QN1+QN2+QN3+QN4+QN5+QP1+QP2+QP3+QP4\n",
    "        \n",
    "        if NQ<0.0:                                  \n",
    "            temp = pH\n",
    "            pH = pH-((pH-pHprev)/2.0)\n",
    "            pHnext = temp\n",
    "\n",
    "        else:\n",
    "            temp = pH\n",
    "            pH = pH + ((pHnext-pH)/2.0)\n",
    "            pHprev = temp\n",
    "#terminal condition, finding pI with given precision defined by Epsilon\n",
    "        if (pH-pHprev<E) and (pHnext-pH<E): \n",
    "            return pH"
   ]
  },
  {
   "cell_type": "code",
   "execution_count": null,
   "metadata": {},
   "outputs": [],
   "source": [
    "def Peptide_ICEmaker(peptide,excel_name=\"Test\",freeze_it=0,cut_it=6):\n",
    "    ice=peptide.str.slice(freeze_it,cut_it)\n",
    "    ice_ice = ice.str.slice(freeze_it,cut_it)\n",
    "    ice_ice.to_excel('ICE '+excel_name+\".xlsx\")\n",
    "    return ice_ice"
   ]
  },
  {
   "cell_type": "code",
   "execution_count": null,
   "metadata": {},
   "outputs": [],
   "source": [
    "ICE_maker(menu[\"Peptide\"])"
   ]
  },
  {
   "cell_type": "code",
   "execution_count": null,
   "metadata": {},
   "outputs": [],
   "source": [
    "def Peptide_Neutral_pH(peptide):\n",
    "    z_dict = {'E': -1, 'D': -1, 'K': 1, 'R': 1} \n",
    "    charge = [z_dict.get(aa, 0.0) for aa in sequence]\n",
    "    spark=sum(charge)\n",
    "    return(spark)"
   ]
  },
  {
   "cell_type": "code",
   "execution_count": null,
   "metadata": {},
   "outputs": [],
   "source": [
    "def Peptide_Gravy(peptide):\n",
    "    hydro = {     \"A\": 1.800,\n",
    "    \"R\": -4.500,\n",
    "    \"N\": -3.500,\n",
    "    \"D\": -3.500,\n",
    "    \"C\": 2.500,\n",
    "    \"Q\": -3.500,\n",
    "    \"E\": -3.500,\n",
    "    \"G\": -0.400,\n",
    "    \"H\": -3.200,\n",
    "    \"I\": 4.500,\n",
    "    \"L\": 3.800,\n",
    "    \"K\": -3.900,\n",
    "    \"M\": 1.900,\n",
    "    \"F\": 2.800,\n",
    "    \"P\": -1.600,\n",
    "    \"S\": -0.800,\n",
    "    \"T\": -0.700,\n",
    "    \"W\": -0.900,\n",
    "    \"Y\": -1.300,\n",
    "    \"V\": 4.200,\n",
    "    }\n",
    "    hydro_list = [hydro.get(aa,0.0)for aa in peptide]\n",
    "    hydro_sum=sum(hydro_list)\n",
    "    gravy=sum/len(hydro_list)\n",
    "    return gravy "
   ]
  },
  {
   "cell_type": "code",
   "execution_count": null,
   "metadata": {},
   "outputs": [],
   "source": [
    "def Marinate (df,target,length,IPC=False,Hydro=False,GRAVY=False,NeutralZ=False):\n",
    "    if IPC is True:\n",
    "        df[\"IPC\"]=df[target].apply(isoelectric_point)\n",
    "    if Hydro is True:\n",
    "        df[\"Hydro_Sum\"]=df[target].apply(Peptide_Gravy)\n",
    "        if GRAVY is True:\n",
    "            df[\"GRAVY\"]=df['Hydro_Sum'] / df[length]\n",
    "    if NeutralZ is True:\n",
    "        df[\"Neutral_Z\"]=df[target].apply(overall_charge) \n",
    "print(\"Peptides have been marinated!\")\n",
    "        "
   ]
  },
  {
   "cell_type": "code",
   "execution_count": null,
   "metadata": {},
   "outputs": [],
   "source": [
    "def Wishbone(df,bone):\n",
    "    x=df[bone].value_counts()\n",
    "    x2=pd.DataFrame(x,columns=[bone])\n",
    "    x3= x2.loc[(x2[bone])>1]\n",
    "    x3z=len(x3)\n",
    "    x4=x3z/len(x2)*100\n",
    "    print(\"The number of proteins with > 2 peptides : %.1f\" % x3z)\n",
    "    print(\"Ratio of Proteins with >2 Peptides Identified: %.3f\" % x4)\n",
    "    return x3,x3z,x4"
   ]
  },
  {
   "cell_type": "code",
   "execution_count": null,
   "metadata": {},
   "outputs": [],
   "source": [
    "def Sweet_N_Sour(set1,set2):\n",
    "    common_IDs=list(set(set1)&set(set2))\n",
    "    common=len(common_IDs)\n",
    "    unique=len(list(set(set1)^set(set2)))\n",
    "    unique_set1=list(set(set1)-set(set2))\n",
    "    unique_set2=list(set(set2)-set(set1))\n",
    "    set1_count=len(unique_set1)\n",
    "    set2_count=len(unique_set2)\n",
    "    Ratio=(unique/(common+unique))*100\n",
    "    print(\"The number of common peptides is: %.3f\" % common)\n",
    "    print(\"The number of unique peptides in set1 is: %.3f\" % set1_count)\n",
    "    print(\"The number of unique peptides in set1 is: %.3f\" % set2_count)\n",
    "    print(\"The Ratio of Unique to Common proteins is: %.3f\" % Ratio)\n",
    "    return common_IDs,unique_set1, unique_set2"
   ]
  },
  {
   "cell_type": "code",
   "execution_count": null,
   "metadata": {},
   "outputs": [],
   "source": [
    "def CorrPie(df,apples,figsize=(16,8),cmap='Blues',title=\"Title\",fontsize=18,pad=16,save_name=\"Heat_Test\",dpi=600,fmt='eps'):\n",
    "    og_corr=df[apples]\n",
    "    plt.figure(figsize=figsize)\n",
    "    mask=np.triu(np.ones_like(og_corr.corr(), dtype=np.bool))\n",
    "    heatmap=heatmap = sns.heatmap(og_corr.corr(), mask=mask, vmin=-1, vmax=1, annot=True, cmap=cmap)\n",
    "    heatmap.set_title(title, fontdict={'fontsize':fontsize}, pad=pad)\n",
    "    plt.savefig(save_name,format=fmt,dpi=dpi,bbox_inches=\"tight\")\n",
    "    plt.show()"
   ]
  },
  {
   "cell_type": "code",
   "execution_count": null,
   "metadata": {},
   "outputs": [],
   "source": [
    "def WeddingCake(df,x,y,z,dpi=300,s=12,alpha=0.3,edgecolor='k',color=\"blue\",my_viewx=20,my_viewy=50,\n",
    "               xlabel=\"Parameter xlabel\",ylabel=\"Parameter ylabel\",zlabel=\"Parameter zlabel\",fmt='png',\n",
    "               figx=10,figy=10,xmin=0,xmax=1000,ymin=0,ymax=1000,zmin=0,zmax=1000):\n",
    "    fig = plt.figure(figsize=(figx,figy),dpi=dpi)\n",
    "    ax = fig.gca(projection='3d')\n",
    "    X = df[x]\n",
    "    Y = df[y]\n",
    "    Z = df[z]\n",
    "    ax.scatter(X,Y,Z,color=color,s=s,alpha=alpha,edgecolor=edgecolor)\n",
    "    ax.view_init(my_viewx,my_viewy)\n",
    "    ax.set_xlabel(xlabel)\n",
    "    ax.set_ylabel(ylabel)\n",
    "    ax.set_zlabel(zlabel)\n",
    "    ax.xaxis._axinfo[\"grid\"].update({\"linewidth\":1, \"color\" : \"grey\"})\n",
    "    ax.yaxis._axinfo[\"grid\"].update({\"linewidth\":1, \"color\" : \"grey\"})\n",
    "    ax.zaxis._axinfo[\"grid\"]['color'] = \"k\"\n",
    "    ax.zaxis._axinfo[\"grid\"]['linestyle'] = \"--\"\n",
    "    ax.set_ylim3d(ymin,ymax)\n",
    "    ax.set_xlim3d(xmin,xmax)\n",
    "    ax.set_zlim3d(zmin,zmax)\n",
    "    FigTitle=input('Figure Title:')\n",
    "    plt.savefig(FigTitle,format=fmt,dpi=dpi,bbox_inches=\"tight\")\n",
    "    plt.show"
   ]
  },
  {
   "cell_type": "code",
   "execution_count": null,
   "metadata": {},
   "outputs": [],
   "source": [
    "def Cake(df,x,y,dpi=600,s=25,alpha=0.25,edgecolor='k',color=\"blue\",fmt='eps',labsize=18,\n",
    "               figx=10,figy=10,xmin=0,xmax=1000,ymin=0,ymax=1000,xlabel=\"xlabel parameter\",ylabel=\"ylabel parameter\",\n",
    "        loc=2,pad=1,borderpad=1,frameon=True, show=False):\n",
    "    fig, ax = plt.subplots(1,1,figsize=(figx,figy),dpi=dpi)\n",
    "    X = df[x]\n",
    "    Y = df[y]\n",
    "    plt.scatter(X,Y,color=color,s=s, alpha=alpha,edgecolor=edgecolor)\n",
    "    plt.xlabel(xlabel, fontsize=labsize)\n",
    "    plt.ylabel(ylabel, fontsize=labsize)\n",
    "    corr, _ = pearsonr(X, Y)\n",
    "    # loc works the same as it does with figures (though best doesn't work)\n",
    "    # pad=5 will increase the size of padding between the border and text\n",
    "    # borderpad=5 will increase the distance between the border and the axes\n",
    "    # frameon=False will remove the box around the text\n",
    "    anchored_text = AnchoredText('Pearsons correlation: r = %.3f' % corr, loc=loc,pad=pad,borderpad=borderpad,frameon=frameon)\n",
    "    ax.add_artist(anchored_text)\n",
    "    FigTitle=input('Figure Title:')\n",
    "    plt.savefig(FigTitle,format=fmt,dpi=dpi,bbox_inches=\"tight\")"
   ]
  },
  {
   "cell_type": "code",
   "execution_count": null,
   "metadata": {},
   "outputs": [],
   "source": [
    "def CakePop(df,x,xi,y,yi, figx=10,figy=10,dpi=600,font_scale=1.5,figstyle=\"white\",xlabel=\"xlabel\",ylabel=\"ylabel\",labsize=18,\n",
    "           cmapx=-0.3,cmapy=0.0,sizex=10,sizey=200,loc='upper left',pad=1,borderpad=1,frameon=True):\n",
    "    sns.set(font_scale=font_scale)\n",
    "    cake=sns.set_style(figstyle)\n",
    "    cmap = sns.cubehelix_palette(start=cmapx, rot=cmapy, as_cmap=True)\n",
    "    X = df[x]\n",
    "    Y = df[y]\n",
    "    cake=sns.relplot(data=df,\n",
    "    x=X, y=Y,\n",
    "    hue=xi, size=yi,\n",
    "    palette=cmap, sizes=(sizex, sizey))\n",
    "    ax = cake.axes[0,0]\n",
    "    ####\n",
    "    corr, _ = pearsonr(X, Y)\n",
    "    anchored_text = AnchoredText('Pearsons correlation: r = %.3f' % corr, loc=loc, prop=dict(size=labsize*0.5),pad=pad,borderpad=borderpad,frameon=frameon)\n",
    "    ax.add_artist(anchored_text)\n",
    "    ####\n",
    "    plt.xlabel(xlabel, fontsize=labsize)\n",
    "    plt.ylabel(ylabel, fontsize=labsize)\n",
    "    FigTitle=input('Figure Title:')\n",
    "    plt.savefig(FigTitle,format=fmt,dpi=dpi,bbox_inches=\"tight\")\n",
    "    plt.show(cake)"
   ]
  }
 ],
 "metadata": {
  "kernelspec": {
   "display_name": "Python 3",
   "language": "python",
   "name": "python3"
  },
  "language_info": {
   "codemirror_mode": {
    "name": "ipython",
    "version": 3
   },
   "file_extension": ".py",
   "mimetype": "text/x-python",
   "name": "python",
   "nbconvert_exporter": "python",
   "pygments_lexer": "ipython3",
   "version": "3.8.3"
  },
  "toc": {
   "base_numbering": 1,
   "nav_menu": {},
   "number_sections": true,
   "sideBar": true,
   "skip_h1_title": false,
   "title_cell": "Table of Contents",
   "title_sidebar": "Contents",
   "toc_cell": false,
   "toc_position": {
    "height": "calc(100% - 180px)",
    "left": "10px",
    "top": "150px",
    "width": "165px"
   },
   "toc_section_display": true,
   "toc_window_display": false
  },
  "varInspector": {
   "cols": {
    "lenName": 16,
    "lenType": 16,
    "lenVar": 40
   },
   "kernels_config": {
    "python": {
     "delete_cmd_postfix": "",
     "delete_cmd_prefix": "del ",
     "library": "var_list.py",
     "varRefreshCmd": "print(var_dic_list())"
    },
    "r": {
     "delete_cmd_postfix": ") ",
     "delete_cmd_prefix": "rm(",
     "library": "var_list.r",
     "varRefreshCmd": "cat(var_dic_list()) "
    }
   },
   "types_to_exclude": [
    "module",
    "function",
    "builtin_function_or_method",
    "instance",
    "_Feature"
   ],
   "window_display": false
  }
 },
 "nbformat": 4,
 "nbformat_minor": 4
}
